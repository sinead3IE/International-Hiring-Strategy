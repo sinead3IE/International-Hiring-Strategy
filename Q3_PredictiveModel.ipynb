{
 "cells": [
  {
   "cell_type": "markdown",
   "metadata": {},
   "source": [
    "## The following is the code to predict what features to 'Country_India' being chosen and predicting how many respondants will be from India. "
   ]
  },
  {
   "cell_type": "markdown",
   "metadata": {},
   "source": [
    "## Connecting to directory containing the datasets"
   ]
  },
  {
   "cell_type": "code",
   "execution_count": null,
   "metadata": {},
   "outputs": [],
   "source": [
    "import os\n",
    "os.chdir(\"C:/Users/skavanagh1/OneDrive/Documents/Udacity/Project 1/\")\n",
    "\n",
    "###GETTING WORKING DIRECTORY\n",
    "import os\n",
    "cwd = os.getcwd()"
   ]
  },
  {
   "cell_type": "code",
   "execution_count": null,
   "metadata": {},
   "outputs": [],
   "source": [
    "import pandas as pd"
   ]
  },
  {
   "cell_type": "markdown",
   "metadata": {},
   "source": [
    "## Ingesting the 4 years of Stack Overflow data into dataframes"
   ]
  },
  {
   "cell_type": "code",
   "execution_count": 3,
   "metadata": {},
   "outputs": [
    {
     "name": "stderr",
     "output_type": "stream",
     "text": [
      "C:\\Users\\skavanagh1\\Anaconda3\\lib\\site-packages\\IPython\\core\\interactiveshell.py:3071: DtypeWarning: Columns (9,13,14,15,16,17,51,52,53,54,56,57,58,59,60,61,62,63,64,65,66,67,68,69,70,71,72,73,74,75,76,77,78,79,80,81,82,83,84,85,86,94,95,96,97,98,99,100,101,102,103,104,105,106,107,108,109,110,111,112,113,114,115,116,117,118,119,120,121,122,123,124,125,126,127,128,129) have mixed types.Specify dtype option on import or set low_memory=False.\n",
      "  has_raised = await self.run_ast_nodes(code_ast.body, cell_name,\n"
     ]
    }
   ],
   "source": [
    "#YearOne_df = 2017 dataset\n",
    "#YearTwo_df = 2018 dataset\n",
    "#YearThree_df = 2019 dataset\n",
    "#YearFour_df = 2020 dataset\n",
    "YearOne_df = pd.read_csv(\"2017_2020 datasets/2017_survey_results_public.csv\")\n",
    "YearTwo_df = pd.read_csv(\"2017_2020 datasets/2018_survey_results_publicv1.csv\")\n",
    "YearThree_df = pd.read_csv(\"2017_2020 datasets/2019_survey_results_public.csv\")\n",
    "YearFour_df = pd.read_csv(\"2017_2020 datasets/2020_survey_results_public.csv\")"
   ]
  },
  {
   "cell_type": "markdown",
   "metadata": {},
   "source": [
    "## Appending the 4 dataframes into one dataframe containing data for all years"
   ]
  },
  {
   "cell_type": "code",
   "execution_count": 4,
   "metadata": {},
   "outputs": [
    {
     "data": {
      "text/plain": [
       "(150247, 267)"
      ]
     },
     "execution_count": 4,
     "metadata": {},
     "output_type": "execute_result"
    }
   ],
   "source": [
    "y1_y2_full = YearOne_df.append(YearTwo_df)\n",
    "y1_y2_full.shape #(150247, 267)"
   ]
  },
  {
   "cell_type": "code",
   "execution_count": 5,
   "metadata": {},
   "outputs": [
    {
     "data": {
      "text/plain": [
       "(239130, 335)"
      ]
     },
     "execution_count": 5,
     "metadata": {},
     "output_type": "execute_result"
    }
   ],
   "source": [
    "y12_y3_full = y1_y2_full.append(YearThree_df)\n",
    "y12_y3_full.shape #(239130, 335)"
   ]
  },
  {
   "cell_type": "code",
   "execution_count": 6,
   "metadata": {},
   "outputs": [
    {
     "data": {
      "text/plain": [
       "(303591, 353)"
      ]
     },
     "execution_count": 6,
     "metadata": {},
     "output_type": "execute_result"
    }
   ],
   "source": [
    "y1_y4_full = y12_y3_full.append(YearFour_df)\n",
    "y1_y4_full.shape #(303591, 353)"
   ]
  },
  {
   "cell_type": "markdown",
   "metadata": {},
   "source": [
    "## Imputing '0' for all nulls in the dataframe"
   ]
  },
  {
   "cell_type": "code",
   "execution_count": 7,
   "metadata": {},
   "outputs": [
    {
     "data": {
      "text/plain": [
       "(303591, 353)"
      ]
     },
     "execution_count": 7,
     "metadata": {},
     "output_type": "execute_result"
    }
   ],
   "source": [
    "df_zero =y1_y4_full.fillna(0) \n",
    "df_zero.shape #(303591, 353)"
   ]
  },
  {
   "cell_type": "code",
   "execution_count": 11,
   "metadata": {},
   "outputs": [
    {
     "data": {
      "text/html": [
       "<div>\n",
       "<style scoped>\n",
       "    .dataframe tbody tr th:only-of-type {\n",
       "        vertical-align: middle;\n",
       "    }\n",
       "\n",
       "    .dataframe tbody tr th {\n",
       "        vertical-align: top;\n",
       "    }\n",
       "\n",
       "    .dataframe thead th {\n",
       "        text-align: right;\n",
       "    }\n",
       "</style>\n",
       "<table border=\"1\" class=\"dataframe\">\n",
       "  <thead>\n",
       "    <tr style=\"text-align: right;\">\n",
       "      <th></th>\n",
       "      <th>Year</th>\n",
       "      <th>Respondent</th>\n",
       "      <th>Professional</th>\n",
       "      <th>ProgramHobby</th>\n",
       "      <th>Country</th>\n",
       "      <th>University</th>\n",
       "      <th>EmploymentStatus</th>\n",
       "      <th>FormalEducation</th>\n",
       "      <th>MajorUndergrad</th>\n",
       "      <th>HomeRemote</th>\n",
       "      <th>...</th>\n",
       "      <th>NEWOffTopic</th>\n",
       "      <th>NEWOnboardGood</th>\n",
       "      <th>NEWOtherComms</th>\n",
       "      <th>NEWOvertime</th>\n",
       "      <th>NEWPurchaseResearch</th>\n",
       "      <th>NEWPurpleLink</th>\n",
       "      <th>NEWSOSites</th>\n",
       "      <th>NEWStuck</th>\n",
       "      <th>WebframeDesireNextYear</th>\n",
       "      <th>WebframeWorkedWith</th>\n",
       "    </tr>\n",
       "  </thead>\n",
       "  <tbody>\n",
       "    <tr>\n",
       "      <th>0</th>\n",
       "      <td>2017</td>\n",
       "      <td>1</td>\n",
       "      <td>Student</td>\n",
       "      <td>Yes, both</td>\n",
       "      <td>United States</td>\n",
       "      <td>No</td>\n",
       "      <td>Not employed, and not looking for work</td>\n",
       "      <td>Secondary school</td>\n",
       "      <td>0</td>\n",
       "      <td>0</td>\n",
       "      <td>...</td>\n",
       "      <td>0</td>\n",
       "      <td>0</td>\n",
       "      <td>0</td>\n",
       "      <td>0</td>\n",
       "      <td>0</td>\n",
       "      <td>0</td>\n",
       "      <td>0</td>\n",
       "      <td>0</td>\n",
       "      <td>0</td>\n",
       "      <td>0</td>\n",
       "    </tr>\n",
       "    <tr>\n",
       "      <th>1</th>\n",
       "      <td>2017</td>\n",
       "      <td>2</td>\n",
       "      <td>Student</td>\n",
       "      <td>Yes, both</td>\n",
       "      <td>United Kingdom</td>\n",
       "      <td>Yes, full-time</td>\n",
       "      <td>Employed part-time</td>\n",
       "      <td>Some college/university study without earning ...</td>\n",
       "      <td>Computer science or software engineering</td>\n",
       "      <td>More than half, but not all, the time</td>\n",
       "      <td>...</td>\n",
       "      <td>0</td>\n",
       "      <td>0</td>\n",
       "      <td>0</td>\n",
       "      <td>0</td>\n",
       "      <td>0</td>\n",
       "      <td>0</td>\n",
       "      <td>0</td>\n",
       "      <td>0</td>\n",
       "      <td>0</td>\n",
       "      <td>0</td>\n",
       "    </tr>\n",
       "  </tbody>\n",
       "</table>\n",
       "<p>2 rows × 353 columns</p>\n",
       "</div>"
      ],
      "text/plain": [
       "   Year  Respondent Professional ProgramHobby         Country      University  \\\n",
       "0  2017           1      Student    Yes, both   United States              No   \n",
       "1  2017           2      Student    Yes, both  United Kingdom  Yes, full-time   \n",
       "\n",
       "                         EmploymentStatus  \\\n",
       "0  Not employed, and not looking for work   \n",
       "1                      Employed part-time   \n",
       "\n",
       "                                     FormalEducation  \\\n",
       "0                                   Secondary school   \n",
       "1  Some college/university study without earning ...   \n",
       "\n",
       "                             MajorUndergrad  \\\n",
       "0                                         0   \n",
       "1  Computer science or software engineering   \n",
       "\n",
       "                              HomeRemote  ... NEWOffTopic NEWOnboardGood  \\\n",
       "0                                      0  ...           0              0   \n",
       "1  More than half, but not all, the time  ...           0              0   \n",
       "\n",
       "  NEWOtherComms NEWOvertime NEWPurchaseResearch NEWPurpleLink NEWSOSites  \\\n",
       "0             0           0                   0             0          0   \n",
       "1             0           0                   0             0          0   \n",
       "\n",
       "  NEWStuck WebframeDesireNextYear WebframeWorkedWith  \n",
       "0        0                      0                  0  \n",
       "1        0                      0                  0  \n",
       "\n",
       "[2 rows x 353 columns]"
      ]
     },
     "execution_count": 11,
     "metadata": {},
     "output_type": "execute_result"
    }
   ],
   "source": [
    "df_zero.head(2)"
   ]
  },
  {
   "cell_type": "markdown",
   "metadata": {},
   "source": [
    "## Creating the dataframe with specific columns for the Model "
   ]
  },
  {
   "cell_type": "code",
   "execution_count": 24,
   "metadata": {},
   "outputs": [],
   "source": [
    "df_q4 = df_zero[['Year', 'Respondent','Gender', 'Professional','ProgramHobby','Country','University','EmploymentStatus']].copy()"
   ]
  },
  {
   "cell_type": "code",
   "execution_count": 25,
   "metadata": {},
   "outputs": [
    {
     "data": {
      "text/plain": [
       "Index(['Year', 'Respondent'], dtype='object')"
      ]
     },
     "execution_count": 25,
     "metadata": {},
     "output_type": "execute_result"
    }
   ],
   "source": [
    "#Identifying the numeric columns\n",
    "cols = df_q4.columns\n",
    "num_cols = df_q4._get_numeric_data().columns\n",
    "num_cols"
   ]
  },
  {
   "cell_type": "code",
   "execution_count": 26,
   "metadata": {},
   "outputs": [
    {
     "data": {
      "text/plain": [
       "['University',\n",
       " 'EmploymentStatus',\n",
       " 'Country',\n",
       " 'ProgramHobby',\n",
       " 'Professional',\n",
       " 'Gender']"
      ]
     },
     "execution_count": 26,
     "metadata": {},
     "output_type": "execute_result"
    }
   ],
   "source": [
    "#Based on the above, identifying the categorical features\n",
    "list(set(cols) - set(num_cols))"
   ]
  },
  {
   "cell_type": "markdown",
   "metadata": {},
   "source": [
    "## Encode categorical variables"
   ]
  },
  {
   "cell_type": "code",
   "execution_count": null,
   "metadata": {},
   "outputs": [],
   "source": [
    "dfdummy_nazero = pd.get_dummies(df_q4, columns=['University','EmploymentStatus', \n",
    " 'ProgramHobby',\n",
    " 'Professional',\n",
    " 'Gender',\n",
    " 'Country'])"
   ]
  },
  {
   "cell_type": "code",
   "execution_count": 40,
   "metadata": {},
   "outputs": [
    {
     "data": {
      "text/plain": [
       "Index(['Year', 'Respondent', 'University_0', 'University_I prefer not to say',\n",
       "       'University_No', 'University_Yes, full-time',\n",
       "       'University_Yes, part-time', 'EmploymentStatus_0',\n",
       "       'EmploymentStatus_Employed full-time',\n",
       "       'EmploymentStatus_Employed part-time',\n",
       "       ...\n",
       "       'Country_Venezuela', 'Country_Venezuela, Bolivarian Republic of...',\n",
       "       'Country_Viet Nam', 'Country_Vietnam',\n",
       "       'Country_Virgin Islands (British)', 'Country_Virgin Islands (USA)',\n",
       "       'Country_Yemen', 'Country_Zaire', 'Country_Zambia', 'Country_Zimbabwe'],\n",
       "      dtype='object', length=321)"
      ]
     },
     "execution_count": 40,
     "metadata": {},
     "output_type": "execute_result"
    }
   ],
   "source": [
    "#Showing all columns\n",
    "dfdummy_nazero.columns"
   ]
  },
  {
   "cell_type": "markdown",
   "metadata": {},
   "source": [
    "## Identifying the top features for the Model"
   ]
  },
  {
   "cell_type": "markdown",
   "metadata": {},
   "source": [
    "### Based on checking the top features, we wanted to remove the very highly correlated features which happened to be the majoirty of 'Country' variables"
   ]
  },
  {
   "cell_type": "code",
   "execution_count": 86,
   "metadata": {},
   "outputs": [],
   "source": [
    "df_noIndia = dfdummy_nazero.drop(['Country_India', 'Country_China', 'Country_Israel', 'Country_Turkey',\n",
    "                                 'Country_Philippines', 'Country_Switzerland','Country_Sweden','Country_Italy',\n",
    "                                 'Country_Pakistan','Country_Netherlands','Country_Spain','Country_Australia','Country_Poland'\n",
    "                                 ,'Country_Brazil','Country_Russian Federation','Country_France','Country_Canada'\n",
    "                                 ,'Country_Germany','Country_United Kingdom','Country_United States', \n",
    "                                  'Country_Ireland','Country_Denmark','Country_Nigeria','Country_Argentina','Country_South Africa'\n",
    "                                 ,'Country_Belgium','Country_Czech Republic','Country_Mexico','Country_Austria'\n",
    "                                 ,'Country_Indonesia','Country_Bangladesh','Country_Romania',\n",
    "                                 'Country_Ukraine','Respondent', 'Country_Serbia','Country_Japan','Country_Egypt'\n",
    "                                 ,'Country_New Zealand','Country_Bulgaria','Country_Hungary','Country_Finland'\n",
    "                                 ,'Country_Sri Lanka','Country_Norway','Country_Portugal',\n",
    "                                 'Country_Greece','Country_Iran','Country_Belarus','Country_Slovenia','Country_Nepal',\n",
    "                                 'Country_Colombia','Country_Singapore','Country_Viet Nam','Country_0'], axis=1)"
   ]
  },
  {
   "cell_type": "markdown",
   "metadata": {},
   "source": [
    "### Assigning X & y"
   ]
  },
  {
   "cell_type": "code",
   "execution_count": 87,
   "metadata": {},
   "outputs": [],
   "source": [
    "X = df_noIndia\n",
    "y = dfdummy_nazero['Country_India']"
   ]
  },
  {
   "cell_type": "code",
   "execution_count": 88,
   "metadata": {},
   "outputs": [
    {
     "data": {
      "text/plain": [
       "(303591, 268)"
      ]
     },
     "execution_count": 88,
     "metadata": {},
     "output_type": "execute_result"
    }
   ],
   "source": [
    "X.shape"
   ]
  },
  {
   "cell_type": "code",
   "execution_count": 89,
   "metadata": {},
   "outputs": [
    {
     "data": {
      "text/plain": [
       "(303591,)"
      ]
     },
     "execution_count": 89,
     "metadata": {},
     "output_type": "execute_result"
    }
   ],
   "source": [
    "y.shape"
   ]
  },
  {
   "cell_type": "code",
   "execution_count": 90,
   "metadata": {},
   "outputs": [
    {
     "data": {
      "text/plain": [
       "ExtraTreesClassifier()"
      ]
     },
     "execution_count": 90,
     "metadata": {},
     "output_type": "execute_result"
    }
   ],
   "source": [
    "from sklearn.ensemble import ExtraTreesClassifier\n",
    "import matplotlib.pyplot as plt\n",
    "model = ExtraTreesClassifier()\n",
    "model.fit(X,y) "
   ]
  },
  {
   "cell_type": "code",
   "execution_count": 93,
   "metadata": {},
   "outputs": [
    {
     "data": {
      "image/png": "[encoded data removed]",
      "text/plain": [
       "<Figure size 432x288 with 1 Axes>"
      ]
     },
     "metadata": {
      "needs_background": "light"
     },
     "output_type": "display_data"
    }
   ],
   "source": [
    "#feature_importances of tree based classifiers\n",
    "#plot graph of feature importances for better visualization\n",
    "feat_importances = pd.Series(model.feature_importances_, index=X.columns)\n",
    "feat_importances.nlargest(30).plot(kind='barh')\n",
    "plt.show()"
   ]
  },
  {
   "cell_type": "markdown",
   "metadata": {},
   "source": [
    "## Train the data for our Model"
   ]
  },
  {
   "cell_type": "markdown",
   "metadata": {},
   "source": [
    "## 1. Create df with top 20 features"
   ]
  },
  {
   "cell_type": "code",
   "execution_count": 97,
   "metadata": {},
   "outputs": [],
   "source": [
    "df_topn = df_noIndia[[\n",
    "'Gender_0', \n",
    "'Gender_Male',\n",
    "'Gender_Man',\n",
    "'University_Yes, full-time',\n",
    "'University_No',\n",
    "'EmploymentStatus_Employed part-time',\n",
    "'EmploymentStatus_Employed full-time',\n",
    "'Year',   \n",
    "'Gender_Woman',    \n",
    "'University_Yes, part-time', \n",
    "'Professional_Professional developer',   \n",
    "'Professional_Student', \n",
    "'ProgramHobby_Yes, both',\n",
    "'Gender_Female',\n",
    "'EmploymentStatus_Not employed, but looking for work',\n",
    "'ProgramHobby_Yes, I contribute to open source projects',\n",
    "]]"
   ]
  },
  {
   "cell_type": "code",
   "execution_count": 98,
   "metadata": {},
   "outputs": [
    {
     "data": {
      "text/plain": [
       "(303591, 16)"
      ]
     },
     "execution_count": 98,
     "metadata": {},
     "output_type": "execute_result"
    }
   ],
   "source": [
    "df_topn.shape"
   ]
  },
  {
   "cell_type": "markdown",
   "metadata": {},
   "source": [
    "## 2. Scale the data"
   ]
  },
  {
   "cell_type": "code",
   "execution_count": 101,
   "metadata": {},
   "outputs": [],
   "source": [
    "from sklearn.preprocessing import StandardScaler, RobustScaler\n",
    "df_strd_scale = df_topn"
   ]
  },
  {
   "cell_type": "code",
   "execution_count": 102,
   "metadata": {},
   "outputs": [],
   "source": [
    "from sklearn.preprocessing import StandardScaler\n",
    "sc_A = StandardScaler()\n",
    "sc_A_fitted = sc_A.fit(df_strd_scale) #need to save this for scoring\n",
    "dfindvar_prepared = sc_A_fitted.transform(df_strd_scale) #scaled X2 training"
   ]
  },
  {
   "cell_type": "code",
   "execution_count": 103,
   "metadata": {},
   "outputs": [
    {
     "data": {
      "text/plain": [
       "(303591, 16)"
      ]
     },
     "execution_count": 103,
     "metadata": {},
     "output_type": "execute_result"
    }
   ],
   "source": [
    "dfindvar_prepared.shape\n",
    "#(303591, 16)"
   ]
  },
  {
   "cell_type": "markdown",
   "metadata": {},
   "source": [
    "## 3. Splitting dataset into Train and Test (70 / 30)"
   ]
  },
  {
   "cell_type": "code",
   "execution_count": 104,
   "metadata": {},
   "outputs": [],
   "source": [
    "X = dfindvar_prepared\n",
    "y = dfdummy_nazero['Country_India']"
   ]
  },
  {
   "cell_type": "code",
   "execution_count": 105,
   "metadata": {},
   "outputs": [
    {
     "data": {
      "text/plain": [
       "(303591, 16)"
      ]
     },
     "execution_count": 105,
     "metadata": {},
     "output_type": "execute_result"
    }
   ],
   "source": [
    "X.shape"
   ]
  },
  {
   "cell_type": "code",
   "execution_count": 106,
   "metadata": {},
   "outputs": [
    {
     "data": {
      "text/plain": [
       "(303591,)"
      ]
     },
     "execution_count": 106,
     "metadata": {},
     "output_type": "execute_result"
    }
   ],
   "source": [
    "y.shape"
   ]
  },
  {
   "cell_type": "code",
   "execution_count": 107,
   "metadata": {},
   "outputs": [],
   "source": [
    "from sklearn.model_selection import train_test_split\n",
    "X_train, X_test, y_train, y_test = train_test_split(X, y, test_size = 0.3, stratify = y, random_state = 42, shuffle = True)"
   ]
  },
  {
   "cell_type": "code",
   "execution_count": 108,
   "metadata": {},
   "outputs": [
    {
     "name": "stdout",
     "output_type": "stream",
     "text": [
      "(212513, 16)\n",
      "(91078, 16)\n",
      "(212513,)\n",
      "(91078,)\n"
     ]
    }
   ],
   "source": [
    "print(X_train.shape) #(212513, 16)\n",
    "print(X_test.shape) #(91078, 16)\n",
    "print(y_train.shape) #(212513,)\n",
    "print(y_test.shape) #(91078,)"
   ]
  },
  {
   "cell_type": "markdown",
   "metadata": {},
   "source": [
    "## Checking which Machine Learning technique to use for our model by comparing accuracy"
   ]
  },
  {
   "cell_type": "markdown",
   "metadata": {},
   "source": [
    "### Importing in all libraries that may be required to compare different models"
   ]
  },
  {
   "cell_type": "code",
   "execution_count": 109,
   "metadata": {},
   "outputs": [],
   "source": [
    "from sklearn.model_selection import train_test_split\n",
    "from sklearn.impute import SimpleImputer\n",
    "from sklearn.preprocessing import OneHotEncoder\n",
    "from sklearn.pipeline import Pipeline\n",
    "from sklearn.preprocessing import StandardScaler, RobustScaler\n",
    "from sklearn.compose import ColumnTransformer\n",
    "import os, math, time, random, datetime\n",
    "\n",
    "#PCA\n",
    "from sklearn.decomposition import PCA\n",
    "\n",
    "#Resampling\n",
    "from imblearn.under_sampling import RandomUnderSampler\n",
    "from imblearn.over_sampling import RandomOverSampler\n",
    "\n",
    "## Models\n",
    "from sklearn.linear_model import LogisticRegression, SGDClassifier, LinearRegression\n",
    "from sklearn.neighbors import KNeighborsClassifier\n",
    "from sklearn.tree import DecisionTreeClassifier\n",
    "from sklearn.ensemble import RandomForestClassifier, GradientBoostingClassifier\n",
    "from xgboost import XGBClassifier\n",
    "import xgboost\n",
    "from sklearn.svm import LinearSVC\n",
    "#import catboost                                         #Catboost,like LGBM, can accept categorical features without encoding them, unlike RF & XG Boost\n",
    "#from catboost import CatBoostClassifier, Pool, cv\n",
    "\n",
    "## Model evaluators\n",
    "from sklearn.model_selection import train_test_split, cross_val_score, cross_val_predict\n",
    "from sklearn.model_selection import RandomizedSearchCV, GridSearchCV\n",
    "from sklearn.metrics import confusion_matrix, classification_report\n",
    "from sklearn.metrics import precision_score, recall_score, f1_score, accuracy_score\n",
    "from sklearn.metrics import plot_roc_curve\n",
    "\n",
    "##Shap values\n",
    "import shapely"
   ]
  },
  {
   "cell_type": "code",
   "execution_count": 110,
   "metadata": {},
   "outputs": [],
   "source": [
    "# Function that runs the requested algorithm and returns the accuracy metrics\n",
    "def fit_ml_algo(algo, X_train_rus, y_train_rus, cv):\n",
    "    \n",
    "    # One Pass\n",
    "    model = algo.fit(X_train_rus, y_train_rus)\n",
    "    acc = round(model.score(X_train_rus, y_train_rus) * 100, 2)\n",
    "    \n",
    "    # Cross Validation \n",
    "    train_pred = cross_val_predict(algo, \n",
    "                                   X_train_rus,\n",
    "                                   y_train_rus,\n",
    "                                   cv=cv,\n",
    "                                   n_jobs = -1)\n",
    "    # Cross-validation accuracy metric\n",
    "    acc_cv = round(accuracy_score(y_train_rus, train_pred) * 100, 2)\n",
    "    \n",
    "    return train_pred, acc, acc_cv"
   ]
  },
  {
   "cell_type": "markdown",
   "metadata": {},
   "source": [
    "#### Logistic Regression"
   ]
  },
  {
   "cell_type": "code",
   "execution_count": 111,
   "metadata": {},
   "outputs": [
    {
     "name": "stdout",
     "output_type": "stream",
     "text": [
      "Accuracy: 88.02\n",
      "Accuracy CV 10-Fold: 88.02\n",
      "Running Time: 0:00:22.159807\n"
     ]
    }
   ],
   "source": [
    "# Logistic Regression\n",
    "start_time = time.time()\n",
    "train_pred_log, acc_log, acc_cv_log = fit_ml_algo(LogisticRegression(), \n",
    "                                                               X_train, \n",
    "                                                               y_train, \n",
    "                                                                    10)\n",
    "log_time = (time.time() - start_time)\n",
    "print(\"Accuracy: %s\" % acc_log)\n",
    "print(\"Accuracy CV 10-Fold: %s\" % acc_cv_log)\n",
    "print(\"Running Time: %s\" % datetime.timedelta(seconds=log_time))\n",
    "#Accuracy: 88.02\n",
    "#Accuracy CV 10-Fold: 88.02\n",
    "#Running Time: 0:00:22.159807"
   ]
  },
  {
   "cell_type": "markdown",
   "metadata": {},
   "source": [
    "#### Linear SVC"
   ]
  },
  {
   "cell_type": "code",
   "execution_count": 112,
   "metadata": {},
   "outputs": [
    {
     "name": "stderr",
     "output_type": "stream",
     "text": [
      "C:\\Users\\skavanagh1\\Anaconda3\\lib\\site-packages\\sklearn\\svm\\_base.py:976: ConvergenceWarning: Liblinear failed to converge, increase the number of iterations.\n",
      "  warnings.warn(\"Liblinear failed to converge, increase \"\n"
     ]
    },
    {
     "name": "stdout",
     "output_type": "stream",
     "text": [
      "Accuracy: 88.02\n",
      "Accuracy CV 10-Fold: 88.02\n",
      "Running Time: 0:06:43.969960\n"
     ]
    }
   ],
   "source": [
    "# Linear SVC\n",
    "start_time = time.time()\n",
    "train_pred_svc, acc_linear_svc, acc_cv_linear_svc = fit_ml_algo(LinearSVC(),\n",
    "                                                               X_train, \n",
    "                                                               y_train, \n",
    "                                                                10)\n",
    "linear_svc_time = (time.time() - start_time)\n",
    "print(\"Accuracy: %s\" % acc_linear_svc)\n",
    "print(\"Accuracy CV 10-Fold: %s\" % acc_cv_linear_svc)\n",
    "print(\"Running Time: %s\" % datetime.timedelta(seconds=linear_svc_time))\n",
    "#Accuracy: 88.02\n",
    "#Accuracy CV 10-Fold: 88.02\n",
    "#Running Time: 0:06:43.969960"
   ]
  },
  {
   "cell_type": "markdown",
   "metadata": {},
   "source": [
    "#### Random Forest"
   ]
  },
  {
   "cell_type": "code",
   "execution_count": 113,
   "metadata": {},
   "outputs": [
    {
     "name": "stdout",
     "output_type": "stream",
     "text": [
      "Accuracy: 88.02\n",
      "Accuracy CV 10-Fold: 88.0\n",
      "Running Time: 0:01:26.172997\n"
     ]
    }
   ],
   "source": [
    "# Random Forest\n",
    "start_time = time.time()\n",
    "train_pred_rf, acc_rf, acc_cv_rf = fit_ml_algo(RandomForestClassifier(),\n",
    "                                                               X_train, \n",
    "                                                               y_train, \n",
    "                                                                10)\n",
    "rf_time = (time.time() - start_time)\n",
    "print(\"Accuracy: %s\" % acc_rf)\n",
    "print(\"Accuracy CV 10-Fold: %s\" % acc_cv_rf)\n",
    "print(\"Running Time: %s\" % datetime.timedelta(seconds=rf_time))\n",
    "#Accuracy: 88.02\n",
    "#Accuracy CV 10-Fold: 88.0\n",
    "#Running Time: 0:01:26.172997"
   ]
  },
  {
   "cell_type": "markdown",
   "metadata": {},
   "source": [
    "#### Decision Tree Classifier"
   ]
  },
  {
   "cell_type": "code",
   "execution_count": 114,
   "metadata": {},
   "outputs": [
    {
     "name": "stdout",
     "output_type": "stream",
     "text": [
      "Accuracy: 88.02\n",
      "Accuracy CV 10-Fold: 88.01\n",
      "Running Time: 0:00:03.153515\n"
     ]
    }
   ],
   "source": [
    "# Decision Tree Classifier\n",
    "start_time = time.time()\n",
    "train_pred_dt, acc_dt, acc_cv_dt = fit_ml_algo(DecisionTreeClassifier(), \n",
    "                                                               X_train, \n",
    "                                                               y_train, \n",
    "                                                                10)\n",
    "dt_time = (time.time() - start_time)\n",
    "print(\"Accuracy: %s\" % acc_dt)\n",
    "print(\"Accuracy CV 10-Fold: %s\" % acc_cv_dt)\n",
    "print(\"Running Time: %s\" % datetime.timedelta(seconds=dt_time))\n",
    "#Accuracy: 88.02\n",
    "#Accuracy CV 10-Fold: 88.01\n",
    "#Running Time: 0:00:03.153515"
   ]
  },
  {
   "cell_type": "markdown",
   "metadata": {},
   "source": [
    "#### Gradient Boosting Trees"
   ]
  },
  {
   "cell_type": "code",
   "execution_count": 115,
   "metadata": {},
   "outputs": [
    {
     "name": "stdout",
     "output_type": "stream",
     "text": [
      "Accuracy: 88.02\n",
      "Accuracy CV 10-Fold: 88.02\n",
      "Running Time: 0:02:41.582730\n"
     ]
    }
   ],
   "source": [
    "# Gradient Boosting Trees\n",
    "start_time = time.time()\n",
    "train_pred_gbt, acc_gbt, acc_cv_gbt = fit_ml_algo(GradientBoostingClassifier(), \n",
    "                                                               X_train, \n",
    "                                                               y_train, \n",
    "                                                                       10)\n",
    "gbt_time = (time.time() - start_time)\n",
    "print(\"Accuracy: %s\" % acc_gbt)\n",
    "print(\"Accuracy CV 10-Fold: %s\" % acc_cv_gbt)\n",
    "print(\"Running Time: %s\" % datetime.timedelta(seconds=gbt_time))\n",
    "#Accuracy: 88.02\n",
    "#Accuracy CV 10-Fold: 88.02\n",
    "#Running Time: 0:02:41.582730"
   ]
  },
  {
   "cell_type": "markdown",
   "metadata": {},
   "source": [
    "### Comparing the Cross Validation Scores of each ML technique"
   ]
  },
  {
   "cell_type": "code",
   "execution_count": 117,
   "metadata": {},
   "outputs": [
    {
     "name": "stdout",
     "output_type": "stream",
     "text": [
      "---Cross-validation Accuracy Scores---\n"
     ]
    },
    {
     "data": {
      "text/html": [
       "<div>\n",
       "<style scoped>\n",
       "    .dataframe tbody tr th:only-of-type {\n",
       "        vertical-align: middle;\n",
       "    }\n",
       "\n",
       "    .dataframe tbody tr th {\n",
       "        vertical-align: top;\n",
       "    }\n",
       "\n",
       "    .dataframe thead th {\n",
       "        text-align: right;\n",
       "    }\n",
       "</style>\n",
       "<table border=\"1\" class=\"dataframe\">\n",
       "  <thead>\n",
       "    <tr style=\"text-align: right;\">\n",
       "      <th></th>\n",
       "      <th>Model</th>\n",
       "      <th>Score</th>\n",
       "    </tr>\n",
       "  </thead>\n",
       "  <tbody>\n",
       "    <tr>\n",
       "      <th>0</th>\n",
       "      <td>Logistic Regression</td>\n",
       "      <td>88.02</td>\n",
       "    </tr>\n",
       "    <tr>\n",
       "      <th>1</th>\n",
       "      <td>Linear SVC</td>\n",
       "      <td>88.02</td>\n",
       "    </tr>\n",
       "    <tr>\n",
       "      <th>4</th>\n",
       "      <td>Gradient Boosting Trees</td>\n",
       "      <td>88.02</td>\n",
       "    </tr>\n",
       "    <tr>\n",
       "      <th>3</th>\n",
       "      <td>Decision Tree Classifier</td>\n",
       "      <td>88.01</td>\n",
       "    </tr>\n",
       "    <tr>\n",
       "      <th>2</th>\n",
       "      <td>Random Forest</td>\n",
       "      <td>88.00</td>\n",
       "    </tr>\n",
       "  </tbody>\n",
       "</table>\n",
       "</div>"
      ],
      "text/plain": [
       "                      Model  Score\n",
       "0       Logistic Regression  88.02\n",
       "1                Linear SVC  88.02\n",
       "4   Gradient Boosting Trees  88.02\n",
       "3  Decision Tree Classifier  88.01\n",
       "2             Random Forest  88.00"
      ]
     },
     "execution_count": 117,
     "metadata": {},
     "output_type": "execute_result"
    }
   ],
   "source": [
    "# Cross-validation Accuracy Scores\n",
    "\n",
    "\n",
    "models = pd.DataFrame({\n",
    "    'Model': ['Logistic Regression', \n",
    "              'Linear SVC', \n",
    "              'Random Forest', \n",
    "              'Decision Tree Classifier', \n",
    "              'Gradient Boosting Trees'],\n",
    "    'Score': [\n",
    "        acc_cv_log,  \n",
    "        acc_cv_linear_svc,\n",
    "        acc_cv_rf,\n",
    "        acc_cv_dt,\n",
    "        acc_cv_gbt\n",
    "    ]})\n",
    "print(\"---Cross-validation Accuracy Scores---\")\n",
    "models.sort_values(by='Score', ascending=False)"
   ]
  },
  {
   "cell_type": "markdown",
   "metadata": {},
   "source": [
    "## Checking Accuracy Scores for each ML technique after .fit and .predict"
   ]
  },
  {
   "cell_type": "code",
   "execution_count": 118,
   "metadata": {},
   "outputs": [],
   "source": [
    "#Logistic Regression\n",
    "lr_model = LogisticRegression().fit(X_train, y_train)\n",
    "lr_y_pred= lr_model.predict(X_test)"
   ]
  },
  {
   "cell_type": "code",
   "execution_count": 119,
   "metadata": {},
   "outputs": [
    {
     "name": "stderr",
     "output_type": "stream",
     "text": [
      "C:\\Users\\skavanagh1\\Anaconda3\\lib\\site-packages\\sklearn\\svm\\_base.py:976: ConvergenceWarning: Liblinear failed to converge, increase the number of iterations.\n",
      "  warnings.warn(\"Liblinear failed to converge, increase \"\n"
     ]
    }
   ],
   "source": [
    "#Linear SVC\n",
    "lsvc_model = LinearSVC().fit(X_train, y_train)\n",
    "lsvc_y_pred= lsvc_model.predict(X_test)"
   ]
  },
  {
   "cell_type": "code",
   "execution_count": 120,
   "metadata": {},
   "outputs": [],
   "source": [
    "#Gradient Booosting Tree\n",
    "gbt_model = GradientBoostingClassifier().fit(X_train, y_train)\n",
    "gbt_y_pred= gbt_model.predict(X_test)"
   ]
  },
  {
   "cell_type": "code",
   "execution_count": 122,
   "metadata": {},
   "outputs": [
    {
     "name": "stdout",
     "output_type": "stream",
     "text": [
      "LR_Accuracy: 0.8801576670546125\n",
      "RF_Accuracy: 0.8801576670546125\n",
      "GBT_Accuracy: 0.8801576670546125\n"
     ]
    }
   ],
   "source": [
    "from sklearn.metrics import confusion_matrix, classification_report\n",
    "from sklearn.metrics import precision_score, recall_score, f1_score, accuracy_score\n",
    "from sklearn.metrics import plot_roc_curve\n",
    "from sklearn import metrics\n",
    "print(\"LR_Accuracy:\",metrics.accuracy_score(y_test, lr_y_pred))\n",
    "print(\"RF_Accuracy:\",metrics.accuracy_score(y_test, lsvc_y_pred))\n",
    "print(\"GBT_Accuracy:\",metrics.accuracy_score(y_test, gbt_y_pred))"
   ]
  },
  {
   "cell_type": "markdown",
   "metadata": {},
   "source": [
    "## Logistic Regression was chosen as the best Model based on CV Accuracy, Accuracy and Time to run"
   ]
  },
  {
   "cell_type": "markdown",
   "metadata": {},
   "source": [
    "## Confusion matrix on test data using Logistic Regression\n",
    "### Results show that 88% of test are True Positives, with approx. 12% being False Positives"
   ]
  },
  {
   "cell_type": "code",
   "execution_count": 124,
   "metadata": {},
   "outputs": [
    {
     "data": {
      "image/png": "[encoded data removed]",
      "text/plain": [
       "<Figure size 216x216 with 1 Axes>"
      ]
     },
     "metadata": {},
     "output_type": "display_data"
    }
   ],
   "source": [
    "import seaborn as sns\n",
    "sns.set(font_scale=1.5) # Increase font size\n",
    "\n",
    "def plot_conf_mat(y_test, lr_y_pred):\n",
    "    \"\"\"\n",
    "    Plots a confusion matrix using Seaborn's heatmap().\n",
    "    \"\"\"\n",
    "    fig, ax = plt.subplots(figsize=(3, 3))\n",
    "    ax = sns.heatmap(confusion_matrix(y_test, lr_y_pred),\n",
    "                     annot=True, # Annotate the boxes\n",
    "                     fmt='g',\n",
    "                     cbar=False)\n",
    "    plt.xlabel(\"true label\")\n",
    "    plt.ylabel(\"predicted label\")\n",
    "    plt.title('LR on Test Data')\n",
    "    \n",
    "plot_conf_mat(y_test,lr_y_pred)"
   ]
  },
  {
   "cell_type": "markdown",
   "metadata": {},
   "source": [
    "## AUC for Logistic Regression Model"
   ]
  },
  {
   "cell_type": "code",
   "execution_count": 125,
   "metadata": {},
   "outputs": [],
   "source": [
    "lr_probs = lr_model.predict_proba(X_test)\n",
    "# keep probabilities for the positive outcome only\n",
    "lr_probs_pos = lr_probs[:, 1]"
   ]
  },
  {
   "cell_type": "code",
   "execution_count": null,
   "metadata": {},
   "outputs": [],
   "source": [
    "lr_false_positive_rate, lr_true_positive_rate, lr_thresholds = metrics.roc_curve(y_test, lr_probs_pos)\n",
    "metrics.auc(lr_false_positive_rate,lr_true_positive_rate)\n",
    "#0.6029940725044367"
   ]
  },
  {
   "cell_type": "markdown",
   "metadata": {},
   "source": [
    "## Showing the volume of respondants that will be most likely be from India"
   ]
  },
  {
   "cell_type": "code",
   "execution_count": 128,
   "metadata": {},
   "outputs": [
    {
     "data": {
      "text/html": [
       "<div>\n",
       "<style scoped>\n",
       "    .dataframe tbody tr th:only-of-type {\n",
       "        vertical-align: middle;\n",
       "    }\n",
       "\n",
       "    .dataframe tbody tr th {\n",
       "        vertical-align: top;\n",
       "    }\n",
       "\n",
       "    .dataframe thead th {\n",
       "        text-align: right;\n",
       "    }\n",
       "</style>\n",
       "<table border=\"1\" class=\"dataframe\">\n",
       "  <thead>\n",
       "    <tr style=\"text-align: right;\">\n",
       "      <th></th>\n",
       "      <th>decile_group</th>\n",
       "      <th>Percentile_Bucket</th>\n",
       "      <th>India_Cnt</th>\n",
       "      <th>Non_India_Cnt</th>\n",
       "    </tr>\n",
       "    <tr>\n",
       "      <th>INDIA_PROBS</th>\n",
       "      <th></th>\n",
       "      <th></th>\n",
       "      <th></th>\n",
       "      <th></th>\n",
       "    </tr>\n",
       "  </thead>\n",
       "  <tbody>\n",
       "    <tr>\n",
       "      <th>(0.9, 1.0]</th>\n",
       "      <td>10</td>\n",
       "      <td>90-100</td>\n",
       "      <td>0.0</td>\n",
       "      <td>0.0</td>\n",
       "    </tr>\n",
       "    <tr>\n",
       "      <th>(0.8, 0.9]</th>\n",
       "      <td>9</td>\n",
       "      <td>80-90</td>\n",
       "      <td>0.0</td>\n",
       "      <td>0.0</td>\n",
       "    </tr>\n",
       "    <tr>\n",
       "      <th>(0.7, 0.8]</th>\n",
       "      <td>8</td>\n",
       "      <td>70-80</td>\n",
       "      <td>0.0</td>\n",
       "      <td>0.0</td>\n",
       "    </tr>\n",
       "    <tr>\n",
       "      <th>(0.6, 0.7]</th>\n",
       "      <td>7</td>\n",
       "      <td>60-70</td>\n",
       "      <td>0.0</td>\n",
       "      <td>0.0</td>\n",
       "    </tr>\n",
       "    <tr>\n",
       "      <th>(0.5, 0.6]</th>\n",
       "      <td>6</td>\n",
       "      <td>50-60</td>\n",
       "      <td>0.0</td>\n",
       "      <td>0.0</td>\n",
       "    </tr>\n",
       "    <tr>\n",
       "      <th>(0.4, 0.5]</th>\n",
       "      <td>5</td>\n",
       "      <td>40-50</td>\n",
       "      <td>5.0</td>\n",
       "      <td>9.0</td>\n",
       "    </tr>\n",
       "    <tr>\n",
       "      <th>(0.3, 0.4]</th>\n",
       "      <td>4</td>\n",
       "      <td>30-40</td>\n",
       "      <td>88.0</td>\n",
       "      <td>176.0</td>\n",
       "    </tr>\n",
       "    <tr>\n",
       "      <th>(0.2, 0.3]</th>\n",
       "      <td>3</td>\n",
       "      <td>20-30</td>\n",
       "      <td>1310.0</td>\n",
       "      <td>5061.0</td>\n",
       "    </tr>\n",
       "    <tr>\n",
       "      <th>(0.1, 0.2]</th>\n",
       "      <td>2</td>\n",
       "      <td>10-20</td>\n",
       "      <td>6161.0</td>\n",
       "      <td>41292.0</td>\n",
       "    </tr>\n",
       "    <tr>\n",
       "      <th>(0.0, 0.1]</th>\n",
       "      <td>1</td>\n",
       "      <td>0-10</td>\n",
       "      <td>3351.0</td>\n",
       "      <td>33625.0</td>\n",
       "    </tr>\n",
       "  </tbody>\n",
       "</table>\n",
       "</div>"
      ],
      "text/plain": [
       "            decile_group Percentile_Bucket  India_Cnt  Non_India_Cnt\n",
       "INDIA_PROBS                                                         \n",
       "(0.9, 1.0]            10            90-100        0.0            0.0\n",
       "(0.8, 0.9]             9             80-90        0.0            0.0\n",
       "(0.7, 0.8]             8             70-80        0.0            0.0\n",
       "(0.6, 0.7]             7             60-70        0.0            0.0\n",
       "(0.5, 0.6]             6             50-60        0.0            0.0\n",
       "(0.4, 0.5]             5             40-50        5.0            9.0\n",
       "(0.3, 0.4]             4             30-40       88.0          176.0\n",
       "(0.2, 0.3]             3             20-30     1310.0         5061.0\n",
       "(0.1, 0.2]             2             10-20     6161.0        41292.0\n",
       "(0.0, 0.1]             1              0-10     3351.0        33625.0"
      ]
     },
     "execution_count": 128,
     "metadata": {},
     "output_type": "execute_result"
    }
   ],
   "source": [
    "from collections import OrderedDict\n",
    "results = pd.DataFrame(OrderedDict( { 'Ytest_India_Ind': y_test, 'INDIA_PROBS': lr_probs_pos } ) )   \n",
    "bins = [0, 0.1, 0.2, 0.3, 0.4, 0.5, 0.6, 0.7, 0.8, 0.9, 1]\n",
    "groups = results.groupby([pd.cut(results.INDIA_PROBS, bins), 'Ytest_India_Ind'])\n",
    "resultsdf = pd.DataFrame(groups.count().unstack().fillna(0))\n",
    "#reversing row order\n",
    "resultsdf = resultsdf.reindex(index=resultsdf.index[::-1])\n",
    "#renaming columns\n",
    "resultsdf.columns = ['Non_India_Cnt', 'India_Cnt']\n",
    "#adding initial columns\n",
    "Percentile_Bucket = ['90-100', '80-90', '70-80', '60-70', '50-60', '40-50', '30-40', '20-30', '10-20', '0-10' ]\n",
    "decile_group = ['10', '9', '8', '7', '6', '5', '4', '3', '2', '1' ]\n",
    "resultsdf['Percentile_Bucket'] = Percentile_Bucket\n",
    "resultsdf['decile_group'] = decile_group\n",
    "#reversing column order\n",
    "columns = resultsdf.columns.tolist()\n",
    "columns = columns[::-1]\n",
    "resultsdf = resultsdf[columns]\n",
    "resultsdf"
   ]
  }
 ],
 "metadata": {
  "kernelspec": {
   "display_name": "Python 3",
   "language": "python",
   "name": "python3"
  },
  "language_info": {
   "codemirror_mode": {
    "name": "ipython",
    "version": 3
   },
   "file_extension": ".py",
   "mimetype": "text/x-python",
   "name": "python",
   "nbconvert_exporter": "python",
   "pygments_lexer": "ipython3",
   "version": "3.8.3"
  }
 },
 "nbformat": 4,
 "nbformat_minor": 4
}
